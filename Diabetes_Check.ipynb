{
 "cells": [
  {
   "cell_type": "code",
   "execution_count": 10,
   "metadata": {
    "id": "azIwqdhZnPmZ"
   },
   "outputs": [
    {
     "name": "stderr",
     "output_type": "stream",
     "text": [
      "C:\\Users\\Shivam\\AppData\\Local\\Temp\\ipykernel_32076\\3348653404.py:31: FutureWarning: Setting an item of incompatible dtype is deprecated and will raise an error in a future version of pandas. Value '30.5' has dtype incompatible with int64, please explicitly cast to a compatible dtype first.\n",
      "  data.loc[data[column] == 0, column] = data[column].median()\n"
     ]
    },
    {
     "name": "stdout",
     "output_type": "stream",
     "text": [
      "Logistic Regression Accuracy: 74.00%\n",
      "Random Forest Accuracy: 82.50%\n",
      "Support Vector Machine Accuracy: 80.50%\n",
      "K-Nearest Neighbors Accuracy: 79.50%\n",
      "\n",
      "Best Model: RandomForestClassifier() with Accuracy: 82.50%\n",
      "Model and scaler have been saved as diabetes_model.pkl and scaler.pkl\n"
     ]
    }
   ],
   "source": [
    "# Install required libraries if not already installed\n",
    "import os\n",
    "import subprocess\n",
    "import sys\n",
    "\n",
    "# Check and install the required libraries\n",
    "required_libraries = ['imbalanced-learn', 'xgboost', 'joblib', 'scikit-learn', 'pandas', 'numpy']\n",
    "for library in required_libraries:\n",
    "    subprocess.check_call([sys.executable, \"-m\", \"pip\", \"install\", library])\n",
    "\n",
    "# Import necessary libraries\n",
    "import pandas as pd\n",
    "import numpy as np\n",
    "from sklearn.model_selection import train_test_split\n",
    "from sklearn.linear_model import LogisticRegression\n",
    "from sklearn.ensemble import RandomForestClassifier\n",
    "from sklearn.svm import SVC\n",
    "from sklearn.neighbors import KNeighborsClassifier\n",
    "from sklearn.preprocessing import StandardScaler\n",
    "from imblearn.over_sampling import SMOTE\n",
    "import joblib\n",
    "from sklearn.metrics import accuracy_score\n",
    "\n",
    "# Load Dataset\n",
    "url = 'https://raw.githubusercontent.com/plotly/datasets/master/diabetes.csv'\n",
    "data = pd.read_csv(url)\n",
    "\n",
    "# Data Preprocessing\n",
    "# Replace zeros with median for specific columns\n",
    "for column in ['Glucose', 'BloodPressure', 'SkinThickness', 'Insulin', 'BMI']:\n",
    "    data.loc[data[column] == 0, column] = data[column].median()\n",
    "\n",
    "# Separate features (X) and target (y)\n",
    "X = data.drop('Outcome', axis=1)\n",
    "y = data['Outcome']\n",
    "\n",
    "# Balance the classes using SMOTE (Synthetic Minority Over-sampling Technique)\n",
    "smote = SMOTE(random_state=42)\n",
    "X, y = smote.fit_resample(X, y)\n",
    "\n",
    "# Scale the features using StandardScaler\n",
    "scaler = StandardScaler()\n",
    "X = scaler.fit_transform(X)\n",
    "\n",
    "# Split the dataset into training and testing sets (80% training, 20% testing)\n",
    "X_train, X_test, y_train, y_test = train_test_split(X, y, test_size=0.2, random_state=42, stratify=y)\n",
    "\n",
    "# Define the models for comparison\n",
    "models = {\n",
    "    'Logistic Regression': LogisticRegression(max_iter=200),\n",
    "    'Random Forest': RandomForestClassifier(),\n",
    "    'Support Vector Machine': SVC(probability=True),\n",
    "    'K-Nearest Neighbors': KNeighborsClassifier(),\n",
    "}\n",
    "\n",
    "# Model Training and Evaluation\n",
    "best_model = None\n",
    "best_score = 0\n",
    "\n",
    "# Train each model and evaluate its accuracy\n",
    "for model_name, model in models.items():\n",
    "    model.fit(X_train, y_train)\n",
    "    accuracy = model.score(X_test, y_test) * 100  # Accuracy on test data\n",
    "    print(f\"{model_name} Accuracy: {accuracy:.2f}%\")\n",
    "\n",
    "    # Select the best model based on accuracy\n",
    "    if accuracy > best_score:\n",
    "        best_score = accuracy\n",
    "        best_model = model\n",
    "\n",
    "# Save the best model and the scaler to files using joblib\n",
    "model_filename = 'diabetes_model.pkl'\n",
    "scaler_filename = 'scaler.pkl'\n",
    "\n",
    "joblib.dump(best_model, model_filename)  # Save the best model\n",
    "joblib.dump(scaler, scaler_filename)     # Save the scaler\n",
    "\n",
    "# Print the final results\n",
    "print(f\"\\nBest Model: {best_model} with Accuracy: {best_score:.2f}%\")\n",
    "print(f\"Model and scaler have been saved as {model_filename} and {scaler_filename}\")\n"
   ]
  }
 ],
 "metadata": {
  "colab": {
   "provenance": []
  },
  "kernelspec": {
   "display_name": ".venv",
   "language": "python",
   "name": "python3"
  },
  "language_info": {
   "codemirror_mode": {
    "name": "ipython",
    "version": 3
   },
   "file_extension": ".py",
   "mimetype": "text/x-python",
   "name": "python",
   "nbconvert_exporter": "python",
   "pygments_lexer": "ipython3",
   "version": "3.11.9"
  }
 },
 "nbformat": 4,
 "nbformat_minor": 0
}
